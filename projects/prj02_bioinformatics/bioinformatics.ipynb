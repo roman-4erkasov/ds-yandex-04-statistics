{
 "cells": [
  {
   "cell_type": "markdown",
   "metadata": {},
   "source": [
    "# Обнаружение статистически значимых отличий в уровнях экспрессии генов больных раком"
   ]
  },
  {
   "cell_type": "markdown",
   "metadata": {},
   "source": [
    "В эксперименте принимали участие 24 человек, у которых не было рака груди (normal), 25 человек, у которых это заболевание было диагностировано на ранней стадии (early neoplasia), и 23 человека с сильно выраженными симптомами (cancer).\n",
    "\n",
    "![diagnoses](intro.png \"Diagnoses\")\n",
    "\n",
    "Ученые провели секвенирование биологического материала испытуемых, чтобы понять, какие из этих генов наиболее активны в клетках больных людей.\n",
    "\n",
    "Секвенирование — это определение степени активности генов в анализируемом образце с помощью подсчёта количества соответствующей каждому гену РНК.\n",
    "\n",
    "В данных для этого задания вы найдете именно эту количественную меру активности каждого из 15748 генов у каждого из 72 человек, принимавших участие в эксперименте.\n",
    "\n",
    "Вам нужно будет определить те гены, активность которых у людей в разных стадиях заболевания отличается статистически значимо.\n",
    "\n",
    "Кроме того, вам нужно будет оценить не только статистическую, но и практическую значимость этих результатов, которая часто используется в подобных исследованиях.\n",
    "\n",
    "Диагноз человека содержится в столбце под названием \"Diagnosis\"."
   ]
  },
  {
   "cell_type": "code",
   "execution_count": 1,
   "metadata": {},
   "outputs": [],
   "source": [
    "from scipy import stats\n",
    "import pandas as pd\n",
    "import numpy as np\n",
    "\n",
    "import statsmodels.stats.multitest as smm"
   ]
  },
  {
   "cell_type": "code",
   "execution_count": 27,
   "metadata": {},
   "outputs": [],
   "source": [
    "def fc(c, t):\n",
    "    return t/c if t>=c else -c/t"
   ]
  },
  {
   "cell_type": "code",
   "execution_count": 2,
   "metadata": {},
   "outputs": [],
   "source": [
    "df = pd.read_csv(\"./gene_high_throughput_sequencing.csv\")"
   ]
  },
  {
   "cell_type": "code",
   "execution_count": 3,
   "metadata": {},
   "outputs": [
    {
     "name": "stdout",
     "output_type": "stream",
     "text": [
      "15748\n"
     ]
    }
   ],
   "source": [
    "genes = list(filter(lambda x: x not in {u'Patient_id', u'Diagnosis'}, df.columns))\n",
    "print len(genes)"
   ]
  },
  {
   "cell_type": "markdown",
   "metadata": {},
   "source": [
    "## Часть 1: применение t-критерия Стьюдента"
   ]
  },
  {
   "cell_type": "markdown",
   "metadata": {},
   "source": [
    "В первой части вам нужно будет применить критерий Стьюдента для проверки гипотезы о равенстве средних в двух независимых выборках. Применить критерий для каждого гена нужно будет дважды:\n",
    "\n",
    "1. для групп normal (control) и early neoplasia (treatment)\n",
    "2. для групп early neoplasia (control) и cancer (treatment)\n",
    "\n",
    "В качестве ответа в этой части задания необходимо указать количество статистически значимых отличий, которые вы нашли с помощью t-критерия Стьюдента, то есть число генов, у которых p-value этого теста оказался меньше, чем уровень значимости."
   ]
  },
  {
   "cell_type": "markdown",
   "metadata": {},
   "source": [
    "### 1.1 Проверка для групп normal (control) и early neoplasia (treatment)"
   ]
  },
  {
   "cell_type": "code",
   "execution_count": null,
   "metadata": {},
   "outputs": [],
   "source": [
    "d_control = df.loc[df.Diagnosis == \"normal\", :]\n",
    "d_treatment = df.loc[df.Diagnosis == \"early neoplasia\", :]\n",
    "\n",
    "result = []\n",
    "for gene in genes:\n",
    "    res = stats.ttest_ind(d_control[gene], d_treatment[gene], equal_var=False)\n",
    "    if res.pvalue<0.05:\n",
    "        result.append((gene, res.pvalue))\n",
    "    elif res.pvalue==0.05:\n",
    "        print gene\n",
    "\n",
    "print \"У %s генов отвергается нулевая гипотеза с уровнем значимости 0.05\"%len(result)\n",
    "\n",
    "with open(\"work_1_1.txt\",'w') as f:\n",
    "    f.write(str(len(result)))"
   ]
  },
  {
   "cell_type": "markdown",
   "metadata": {},
   "source": [
    "### 1.2 Проверка для групп early neoplasia (control) и cancer (treatment)"
   ]
  },
  {
   "cell_type": "code",
   "execution_count": null,
   "metadata": {},
   "outputs": [],
   "source": [
    "d_control = df.loc[df.Diagnosis == \"early neoplasia\", :]\n",
    "d_treatment = df.loc[df.Diagnosis == \"cancer\", :]\n",
    "\n",
    "result = []\n",
    "for gene in genes:\n",
    "    res = stats.ttest_ind(d_control[gene], d_treatment[gene], equal_var=False)\n",
    "    if res.pvalue<0.05:\n",
    "        result.append((gene, res.pvalue))\n",
    "    elif res.pvalue==0.05:\n",
    "        print gene\n",
    "\n",
    "print \"У %s генов отвергается нулевая гипотеза с уровнем значимости 0.05\"%len(result)\n",
    "\n",
    "with open(\"work_1_2.txt\",'w') as f:\n",
    "    f.write(str(len(result)))"
   ]
  },
  {
   "cell_type": "markdown",
   "metadata": {},
   "source": [
    "## Часть 2: поправка методом Холма\n",
    "\n"
   ]
  },
  {
   "cell_type": "markdown",
   "metadata": {},
   "source": [
    "### 2.1 Проверка для групп normal (control) и early neoplasia (treatment)"
   ]
  },
  {
   "cell_type": "code",
   "execution_count": null,
   "metadata": {},
   "outputs": [],
   "source": [
    "d_control = df.loc[df.Diagnosis == \"normal\", :]\n",
    "d_treatment = df.loc[df.Diagnosis == \"early neoplasia\", :]\n",
    "\n",
    "obs = []\n",
    "for gene in genes:\n",
    "    res = stats.ttest_ind(d_control[gene], d_treatment[gene], equal_var=False)\n",
    "    obs.append(\n",
    "        (\n",
    "            gene, \n",
    "            res.pvalue,\n",
    "            fc(d_control[gene].mean(), d_treatment[gene].mean())\n",
    "        )\n",
    "    )\n",
    "\n",
    "pv = map( lambda x: x[1], obs)\n",
    "rejected, _, _, _ = smm.multipletests(pv, alpha=.025, method='holm')\n",
    "\n",
    "result = 0\n",
    "for i in range(len(obs)):\n",
    "    if abs(obs[i][2]) > 1.5 and rejected[i]:\n",
    "        result += 1\n",
    "        \n",
    "print \"У %s генов отвергается нулевая гипотеза с уровнем значимости 0.05\"%result\n",
    "\n",
    "with open(\"work_2_1.txt\",'w') as f:\n",
    "    f.write(str(result))"
   ]
  },
  {
   "cell_type": "markdown",
   "metadata": {},
   "source": [
    "### 2.2 Проверка для групп early neoplasia (control) и cancer (treatment)"
   ]
  },
  {
   "cell_type": "code",
   "execution_count": 28,
   "metadata": {},
   "outputs": [
    {
     "name": "stdout",
     "output_type": "stream",
     "text": [
      "У 77 генов отвергается нулевая гипотеза с уровнем значимости 0.05\n"
     ]
    }
   ],
   "source": [
    "d_control = df.loc[df.Diagnosis == \"early neoplasia\", :]\n",
    "d_treatment = df.loc[df.Diagnosis == \"cancer\", :]\n",
    "\n",
    "obs = []\n",
    "for gene in genes:\n",
    "    res = stats.ttest_ind(\n",
    "        d_control[gene], \n",
    "        d_treatment[gene], \n",
    "        equal_var=False\n",
    "    )\n",
    "    obs.append(\n",
    "        (\n",
    "            gene, \n",
    "            res.pvalue,\n",
    "            fc(d_control[gene].mean(), d_treatment[gene].mean())\n",
    "        )\n",
    "    )\n",
    "\n",
    "pv = map(lambda x: x[1], obs)\n",
    "rejected, _, _, _ = smm.multipletests(pv, alpha=.025, method='holm')\n",
    "\n",
    "result = 0\n",
    "for i in range(len(obs)):\n",
    "    if abs(obs[i][2]) >= 1.5 and rejected[i]:\n",
    "        result += 1\n",
    "\n",
    "print \"У %s генов отвергается нулевая гипотеза с уровнем значимости 0.05\" % result\n",
    "\n",
    "with open(\"work_2_2.txt\",'w') as f:\n",
    "    f.write(str(result))\n"
   ]
  },
  {
   "cell_type": "markdown",
   "metadata": {},
   "source": [
    "## Часть 3: поправка методом Бенджамини-Хохберга"
   ]
  },
  {
   "cell_type": "markdown",
   "metadata": {},
   "source": [
    "### 3.1 Проверка для групп normal (control) и early neoplasia (treatment)"
   ]
  },
  {
   "cell_type": "code",
   "execution_count": 33,
   "metadata": {},
   "outputs": [
    {
     "name": "stdout",
     "output_type": "stream",
     "text": [
      "У 4 генов отвергается нулевая гипотеза с уровнем значимости 0.05\n"
     ]
    }
   ],
   "source": [
    "d_control = df.loc[df.Diagnosis == \"normal\", :]\n",
    "d_treatment = df.loc[df.Diagnosis == \"early neoplasia\", :]\n",
    "\n",
    "obs = []\n",
    "for gene in genes:\n",
    "    res = stats.ttest_ind(d_control[gene], d_treatment[gene], equal_var=False)\n",
    "    obs.append(\n",
    "        (\n",
    "            gene, \n",
    "            res.pvalue,\n",
    "            fc(d_control[gene].mean(), d_treatment[gene].mean())\n",
    "        )\n",
    "    )\n",
    "\n",
    "pv = map( lambda x: x[1], obs)\n",
    "rejected, _, _, _ = smm.multipletests(pv, alpha=.025, method='fdr_bh')\n",
    "\n",
    "result = 0\n",
    "for i in range(len(obs)):\n",
    "    if abs(obs[i][2]) > 1.5 and rejected[i]:\n",
    "        result += 1\n",
    "        \n",
    "print \"У %s генов отвергается нулевая гипотеза с уровнем значимости 0.05\"%result\n",
    "\n",
    "with open(\"work_3_1.txt\",'w') as f:\n",
    "    f.write(str(result))"
   ]
  },
  {
   "cell_type": "markdown",
   "metadata": {},
   "source": [
    "### 3.2 Проверка для групп early neoplasia (control) и cancer (treatment)"
   ]
  },
  {
   "cell_type": "code",
   "execution_count": 35,
   "metadata": {},
   "outputs": [
    {
     "name": "stdout",
     "output_type": "stream",
     "text": [
      "У 524 генов отвергается нулевая гипотеза с уровнем значимости 0.05\n"
     ]
    }
   ],
   "source": [
    "d_control = df.loc[df.Diagnosis == \"early neoplasia\", :]\n",
    "d_treatment = df.loc[df.Diagnosis == \"cancer\", :]\n",
    "\n",
    "obs = []\n",
    "for gene in genes:\n",
    "    res = stats.ttest_ind(d_control[gene], d_treatment[gene], equal_var=False)\n",
    "    obs.append(\n",
    "        (\n",
    "            gene, \n",
    "            res.pvalue,\n",
    "            fc(d_control[gene].mean(), d_treatment[gene].mean())\n",
    "        )\n",
    "    )\n",
    "\n",
    "pv = map( lambda x: x[1], obs)\n",
    "rejected, _, _, _ = smm.multipletests(pv, alpha=.025, method='fdr_bh')\n",
    "\n",
    "result = 0\n",
    "for i in range(len(obs)):\n",
    "    if abs(obs[i][2]) > 1.5 and rejected[i]:\n",
    "        result += 1\n",
    "        \n",
    "print \"У %s генов отвергается нулевая гипотеза с уровнем значимости 0.05\"%result\n",
    "\n",
    "with open(\"work_3_2.txt\",'w') as f:\n",
    "    f.write(str(result))"
   ]
  },
  {
   "cell_type": "code",
   "execution_count": null,
   "metadata": {},
   "outputs": [],
   "source": []
  }
 ],
 "metadata": {
  "kernelspec": {
   "display_name": "Python 2",
   "language": "python",
   "name": "python2"
  },
  "language_info": {
   "codemirror_mode": {
    "name": "ipython",
    "version": 2
   },
   "file_extension": ".py",
   "mimetype": "text/x-python",
   "name": "python",
   "nbconvert_exporter": "python",
   "pygments_lexer": "ipython2",
   "version": "2.7.10"
  }
 },
 "nbformat": 4,
 "nbformat_minor": 2
}
