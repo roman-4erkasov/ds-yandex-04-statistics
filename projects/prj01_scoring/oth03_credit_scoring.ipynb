{
 "cells": [
  {
   "cell_type": "code",
   "execution_count": 1,
   "metadata": {},
   "outputs": [],
   "source": [
    "import pandas as pd\n",
    "import numpy as np\n",
    "from matplotlib import pyplot as plt\n",
    "from scipy import stats\n",
    "from statsmodels.stats.proportion import proportion_confint\n",
    "import scipy"
   ]
  },
  {
   "cell_type": "code",
   "execution_count": 2,
   "metadata": {
    "scrolled": true
   },
   "outputs": [
    {
     "name": "stdout",
     "output_type": "stream",
     "text": [
      "(30000, 24)\n"
     ]
    },
    {
     "data": {
      "text/html": [
       "<div>\n",
       "<style scoped>\n",
       "    .dataframe tbody tr th:only-of-type {\n",
       "        vertical-align: middle;\n",
       "    }\n",
       "\n",
       "    .dataframe tbody tr th {\n",
       "        vertical-align: top;\n",
       "    }\n",
       "\n",
       "    .dataframe thead th {\n",
       "        text-align: right;\n",
       "    }\n",
       "</style>\n",
       "<table border=\"1\" class=\"dataframe\">\n",
       "  <thead>\n",
       "    <tr style=\"text-align: right;\">\n",
       "      <th></th>\n",
       "      <th>LIMIT_BAL</th>\n",
       "      <th>SEX</th>\n",
       "      <th>EDUCATION</th>\n",
       "      <th>MARRIAGE</th>\n",
       "      <th>AGE</th>\n",
       "      <th>PAY_0</th>\n",
       "      <th>PAY_2</th>\n",
       "      <th>PAY_3</th>\n",
       "      <th>PAY_4</th>\n",
       "      <th>PAY_5</th>\n",
       "      <th>...</th>\n",
       "      <th>BILL_AMT4</th>\n",
       "      <th>BILL_AMT5</th>\n",
       "      <th>BILL_AMT6</th>\n",
       "      <th>PAY_AMT1</th>\n",
       "      <th>PAY_AMT2</th>\n",
       "      <th>PAY_AMT3</th>\n",
       "      <th>PAY_AMT4</th>\n",
       "      <th>PAY_AMT5</th>\n",
       "      <th>PAY_AMT6</th>\n",
       "      <th>default</th>\n",
       "    </tr>\n",
       "    <tr>\n",
       "      <th>ID</th>\n",
       "      <th></th>\n",
       "      <th></th>\n",
       "      <th></th>\n",
       "      <th></th>\n",
       "      <th></th>\n",
       "      <th></th>\n",
       "      <th></th>\n",
       "      <th></th>\n",
       "      <th></th>\n",
       "      <th></th>\n",
       "      <th></th>\n",
       "      <th></th>\n",
       "      <th></th>\n",
       "      <th></th>\n",
       "      <th></th>\n",
       "      <th></th>\n",
       "      <th></th>\n",
       "      <th></th>\n",
       "      <th></th>\n",
       "      <th></th>\n",
       "      <th></th>\n",
       "    </tr>\n",
       "  </thead>\n",
       "  <tbody>\n",
       "    <tr>\n",
       "      <th>1</th>\n",
       "      <td>20000</td>\n",
       "      <td>2</td>\n",
       "      <td>2</td>\n",
       "      <td>1</td>\n",
       "      <td>24</td>\n",
       "      <td>2</td>\n",
       "      <td>2</td>\n",
       "      <td>0</td>\n",
       "      <td>0</td>\n",
       "      <td>0</td>\n",
       "      <td>...</td>\n",
       "      <td>0</td>\n",
       "      <td>0</td>\n",
       "      <td>0</td>\n",
       "      <td>0</td>\n",
       "      <td>689</td>\n",
       "      <td>0</td>\n",
       "      <td>0</td>\n",
       "      <td>0</td>\n",
       "      <td>0</td>\n",
       "      <td>1</td>\n",
       "    </tr>\n",
       "    <tr>\n",
       "      <th>2</th>\n",
       "      <td>120000</td>\n",
       "      <td>2</td>\n",
       "      <td>2</td>\n",
       "      <td>2</td>\n",
       "      <td>26</td>\n",
       "      <td>0</td>\n",
       "      <td>2</td>\n",
       "      <td>0</td>\n",
       "      <td>0</td>\n",
       "      <td>0</td>\n",
       "      <td>...</td>\n",
       "      <td>3272</td>\n",
       "      <td>3455</td>\n",
       "      <td>3261</td>\n",
       "      <td>0</td>\n",
       "      <td>1000</td>\n",
       "      <td>1000</td>\n",
       "      <td>1000</td>\n",
       "      <td>0</td>\n",
       "      <td>2000</td>\n",
       "      <td>1</td>\n",
       "    </tr>\n",
       "    <tr>\n",
       "      <th>3</th>\n",
       "      <td>90000</td>\n",
       "      <td>2</td>\n",
       "      <td>2</td>\n",
       "      <td>2</td>\n",
       "      <td>34</td>\n",
       "      <td>0</td>\n",
       "      <td>0</td>\n",
       "      <td>0</td>\n",
       "      <td>0</td>\n",
       "      <td>0</td>\n",
       "      <td>...</td>\n",
       "      <td>14331</td>\n",
       "      <td>14948</td>\n",
       "      <td>15549</td>\n",
       "      <td>1518</td>\n",
       "      <td>1500</td>\n",
       "      <td>1000</td>\n",
       "      <td>1000</td>\n",
       "      <td>1000</td>\n",
       "      <td>5000</td>\n",
       "      <td>0</td>\n",
       "    </tr>\n",
       "    <tr>\n",
       "      <th>4</th>\n",
       "      <td>50000</td>\n",
       "      <td>2</td>\n",
       "      <td>2</td>\n",
       "      <td>1</td>\n",
       "      <td>37</td>\n",
       "      <td>0</td>\n",
       "      <td>0</td>\n",
       "      <td>0</td>\n",
       "      <td>0</td>\n",
       "      <td>0</td>\n",
       "      <td>...</td>\n",
       "      <td>28314</td>\n",
       "      <td>28959</td>\n",
       "      <td>29547</td>\n",
       "      <td>2000</td>\n",
       "      <td>2019</td>\n",
       "      <td>1200</td>\n",
       "      <td>1100</td>\n",
       "      <td>1069</td>\n",
       "      <td>1000</td>\n",
       "      <td>0</td>\n",
       "    </tr>\n",
       "    <tr>\n",
       "      <th>5</th>\n",
       "      <td>50000</td>\n",
       "      <td>1</td>\n",
       "      <td>2</td>\n",
       "      <td>1</td>\n",
       "      <td>57</td>\n",
       "      <td>0</td>\n",
       "      <td>0</td>\n",
       "      <td>0</td>\n",
       "      <td>0</td>\n",
       "      <td>0</td>\n",
       "      <td>...</td>\n",
       "      <td>20940</td>\n",
       "      <td>19146</td>\n",
       "      <td>19131</td>\n",
       "      <td>2000</td>\n",
       "      <td>36681</td>\n",
       "      <td>10000</td>\n",
       "      <td>9000</td>\n",
       "      <td>689</td>\n",
       "      <td>679</td>\n",
       "      <td>0</td>\n",
       "    </tr>\n",
       "  </tbody>\n",
       "</table>\n",
       "<p>5 rows × 24 columns</p>\n",
       "</div>"
      ],
      "text/plain": [
       "    LIMIT_BAL  SEX  EDUCATION  MARRIAGE  AGE  PAY_0  PAY_2  PAY_3  PAY_4  \\\n",
       "ID                                                                         \n",
       "1       20000    2          2         1   24      2      2      0      0   \n",
       "2      120000    2          2         2   26      0      2      0      0   \n",
       "3       90000    2          2         2   34      0      0      0      0   \n",
       "4       50000    2          2         1   37      0      0      0      0   \n",
       "5       50000    1          2         1   57      0      0      0      0   \n",
       "\n",
       "    PAY_5   ...     BILL_AMT4  BILL_AMT5  BILL_AMT6  PAY_AMT1  PAY_AMT2  \\\n",
       "ID          ...                                                           \n",
       "1       0   ...             0          0          0         0       689   \n",
       "2       0   ...          3272       3455       3261         0      1000   \n",
       "3       0   ...         14331      14948      15549      1518      1500   \n",
       "4       0   ...         28314      28959      29547      2000      2019   \n",
       "5       0   ...         20940      19146      19131      2000     36681   \n",
       "\n",
       "    PAY_AMT3  PAY_AMT4  PAY_AMT5  PAY_AMT6  default  \n",
       "ID                                                   \n",
       "1          0         0         0         0        1  \n",
       "2       1000      1000         0      2000        1  \n",
       "3       1000      1000      1000      5000        0  \n",
       "4       1200      1100      1069      1000        0  \n",
       "5      10000      9000       689       679        0  \n",
       "\n",
       "[5 rows x 24 columns]"
      ]
     },
     "execution_count": 2,
     "metadata": {},
     "output_type": "execute_result"
    }
   ],
   "source": [
    "df = pd.read_csv('acredit_card_default_analysis.csv', sep=',')\n",
    "df = df.set_index('ID')\n",
    "print(df.shape)\n",
    "df.head()"
   ]
  },
  {
   "cell_type": "markdown",
   "metadata": {},
   "source": [
    "# Task 1"
   ]
  },
  {
   "cell_type": "code",
   "execution_count": 62,
   "metadata": {},
   "outputs": [
    {
     "name": "stdout",
     "output_type": "stream",
     "text": [
      "6636 23364\n"
     ]
    }
   ],
   "source": [
    "not_returned = df[df['default'] == 1]['LIMIT_BAL']\n",
    "returned = df[df['default'] == 0]['LIMIT_BAL']\n",
    "print(not_returned.shape[0], returned.shape[0])"
   ]
  },
  {
   "cell_type": "code",
   "execution_count": 63,
   "metadata": {},
   "outputs": [
    {
     "data": {
      "text/plain": [
       "Text(0.5, 1.0, 'Вернули кредит. Медиана: 150000.0')"
      ]
     },
     "execution_count": 63,
     "metadata": {},
     "output_type": "execute_result"
    },
    {
     "data": {
      "image/png": "[encoded data removed]",
      "text/plain": [
       "<Figure size 1008x360 with 2 Axes>"
      ]
     },
     "metadata": {
      "needs_background": "light"
     },
     "output_type": "display_data"
    }
   ],
   "source": [
    "plt.figure(figsize=(14, 5))\n",
    "plt.subplot(1, 2, 1)\n",
    "not_returned.hist()\n",
    "plt.vlines(not_returned.median(), ymin=0, ymax=3200, color='r')\n",
    "plt.title('Не вернули кредит. Медиана: {}'.format(not_returned.median()))\n",
    "plt.subplot(1, 2, 2)\n",
    "returned.hist()\n",
    "plt.vlines(returned.median(), ymin=0, ymax=8500, color='r')\n",
    "plt.title('Вернули кредит. Медиана: {}'.format(returned.median()))"
   ]
  },
  {
   "cell_type": "markdown",
   "metadata": {},
   "source": [
    "### (a) Равенство медиан используя bootstrap"
   ]
  },
  {
   "cell_type": "code",
   "execution_count": 11,
   "metadata": {},
   "outputs": [],
   "source": [
    "def get_bootstrap_samples(data, n_samples):\n",
    "    indices = np.random.randint(0, len(data), (n_samples, len(data)))\n",
    "    samples = data[indices]\n",
    "    return samples\n",
    "\n",
    "def stat_intervals(stat, alpha=0.5):\n",
    "    boundaries = np.percentile(stat, [100 * alpha / 2., 100 * (1 - alpha / 2.)])\n",
    "    return boundaries"
   ]
  },
  {
   "cell_type": "code",
   "execution_count": 65,
   "metadata": {},
   "outputs": [
    {
     "name": "stdout",
     "output_type": "stream",
     "text": [
      "95% confidence interval for NOT returned loans: [90000. 90000.]\n",
      "95% confidence interval for for returned loans: [150000. 150000.]\n"
     ]
    }
   ],
   "source": [
    "not_returned_median_scores = list(map(np.median, get_bootstrap_samples(not_returned.values, 1000)))\n",
    "returned_median_scores = list(map(np.median, get_bootstrap_samples(returned.values, 1000)))\n",
    "\n",
    "print(\"95% confidence interval for NOT returned loans:\",  stat_intervals(not_returned_median_scores))\n",
    "print(\"95% confidence interval for for returned loans:\",  stat_intervals(returned_median_scores))"
   ]
  },
  {
   "cell_type": "markdown",
   "metadata": {},
   "source": [
    "### (b) Ранговый критерий Манна-Уитни\n",
    "$H_0\\colon F_{X_1}(x) = F_{X_2}(x)$\n",
    "\n",
    "$H_1\\colon F_{X_1}(x) = F_{X_2}(x + \\Delta), \\Delta\\neq 0$"
   ]
  },
  {
   "cell_type": "code",
   "execution_count": 67,
   "metadata": {},
   "outputs": [
    {
     "name": "stdout",
     "output_type": "stream",
     "text": [
      "P-value = 6.127742909111652e-190\n"
     ]
    }
   ],
   "source": [
    "print('P-value =', stats.mannwhitneyu(not_returned, returned).pvalue)"
   ]
  },
  {
   "cell_type": "markdown",
   "metadata": {},
   "source": [
    "### Выводы:<br>\n",
    "\n",
    "Учитывая доверительный интервал и p-value можно уверенно отвергнуть гипотезу что размер кредитного лимита не влияет на возврат кредита"
   ]
  },
  {
   "cell_type": "markdown",
   "metadata": {},
   "source": [
    "# Task 2"
   ]
  },
  {
   "cell_type": "code",
   "execution_count": 48,
   "metadata": {},
   "outputs": [],
   "source": [
    "male = df[df['SEX'] == 1]['default']\n",
    "female = df[df['SEX'] == 2]['default']"
   ]
  },
  {
   "cell_type": "code",
   "execution_count": 49,
   "metadata": {},
   "outputs": [
    {
     "data": {
      "text/plain": [
       "Text(0.5, 1.0, 'Вернули кредит')"
      ]
     },
     "execution_count": 49,
     "metadata": {},
     "output_type": "execute_result"
    },
    {
     "data": {
      "image/png": "[encoded data removed]",
      "text/plain": [
       "<Figure size 1008x360 with 2 Axes>"
      ]
     },
     "metadata": {
      "needs_background": "light"
     },
     "output_type": "display_data"
    }
   ],
   "source": [
    "plt.figure(figsize=(14, 5))\n",
    "plt.subplot(1, 2, 1)\n",
    "male.plot(kind='hist')\n",
    "plt.title('Не вернули кредит')\n",
    "\n",
    "plt.subplot(1, 2, 2)\n",
    "female.plot(kind='hist')\n",
    "plt.title('Вернули кредит')"
   ]
  },
  {
   "cell_type": "code",
   "execution_count": 43,
   "metadata": {},
   "outputs": [],
   "source": [
    "def proportions_diff_confint_ind(sample1, sample2, alpha = 0.05):    \n",
    "    z = scipy.stats.norm.ppf(1 - alpha / 2.)\n",
    "    \n",
    "    p1 = float(sum(sample1)) / len(sample1)\n",
    "    p2 = float(sum(sample2)) / len(sample2)\n",
    "    \n",
    "    left_boundary = (p1 - p2) - z * np.sqrt(p1 * (1 - p1)/ len(sample1) + p2 * (1 - p2)/ len(sample2))\n",
    "    right_boundary = (p1 - p2) + z * np.sqrt(p1 * (1 - p1)/ len(sample1) + p2 * (1 - p2)/ len(sample2))\n",
    "    \n",
    "    return (left_boundary, right_boundary)"
   ]
  },
  {
   "cell_type": "code",
   "execution_count": 58,
   "metadata": {},
   "outputs": [
    {
     "name": "stdout",
     "output_type": "stream",
     "text": [
      "95% доверительный интервал для разности долей: [0.024207, 0.043612]\n"
     ]
    }
   ],
   "source": [
    "print('95%% доверительный интервал для разности долей: [%f, %f]' % proportions_diff_confint_ind(male, female))"
   ]
  },
  {
   "cell_type": "markdown",
   "metadata": {},
   "source": [
    "### Z-критерий для доли для двух независимых выборок\n",
    "H0 : p1 = p2<br>\n",
    "H1 : p1 ≮=> p2"
   ]
  },
  {
   "cell_type": "code",
   "execution_count": 42,
   "metadata": {},
   "outputs": [],
   "source": [
    "def proportions_diff_z_stat_ind(sample1, sample2):\n",
    "    n1, n2 = sample1.shape[0], sample2.shape[0]\n",
    "    \n",
    "    p1 = float(sample1.sum()) / n1\n",
    "    p2 = float(sample2.sum()) / n2\n",
    "\n",
    "    P = float(p1*n1 + p2*n2) / (n1 + n2)\n",
    "    \n",
    "    return (p1 - p2) / np.sqrt(P * (1 - P) * (1. / n1 + 1. / n2))\n",
    "\n",
    "def proportions_diff_z_test(z_stat, alternative = 'two-sided'):\n",
    "    if alternative not in ('two-sided', 'less', 'greater'):\n",
    "        raise ValueError(\"alternative not recognized\\n\"\n",
    "                         \"should be 'two-sided', 'less' or 'greater'\")\n",
    "    \n",
    "    if alternative == 'two-sided':\n",
    "        return 2 * (1 - scipy.stats.norm.cdf(np.abs(z_stat)))\n",
    "    \n",
    "    if alternative == 'less':\n",
    "        return scipy.stats.norm.cdf(z_stat)\n",
    "\n",
    "    if alternative == 'greater':\n",
    "        return 1 - scipy.stats.norm.cdf(z_stat)"
   ]
  },
  {
   "cell_type": "code",
   "execution_count": 56,
   "metadata": {},
   "outputs": [
    {
     "name": "stdout",
     "output_type": "stream",
     "text": [
      "p-value = 4.472866521609831e-12\n"
     ]
    }
   ],
   "source": [
    "print('p-value =', proportions_diff_z_test(proportions_diff_z_stat_ind(male, female)))"
   ]
  },
  {
   "cell_type": "markdown",
   "metadata": {},
   "source": [
    "### Выводы:<br>\n",
    "\n",
    "Учитывая, что доверительный интервал разности долей не пересекает 0 можно сказать что пол влияет на просроченность кредита. Что и подтверждает Z-критерий, уровень значимости которого значительно меньше 0.05."
   ]
  },
  {
   "cell_type": "markdown",
   "metadata": {},
   "source": [
    "# Task 3"
   ]
  },
  {
   "cell_type": "code",
   "execution_count": 149,
   "metadata": {},
   "outputs": [],
   "source": [
    "not_returned_education = df[df['default'] == 1]['EDUCATION']\n",
    "returned_education = df[df['default'] == 0]['EDUCATION']\n",
    "\n",
    "nr_education_counts = not_returned_education.value_counts().sort_index()\n",
    "r_education_counts = returned_education.value_counts().sort_index()"
   ]
  },
  {
   "cell_type": "code",
   "execution_count": 150,
   "metadata": {},
   "outputs": [
    {
     "data": {
      "text/plain": [
       "Text(0.5, 1.0, 'Вернули кредит')"
      ]
     },
     "execution_count": 150,
     "metadata": {},
     "output_type": "execute_result"
    },
    {
     "data": {
      "image/png": "[encoded data removed]",
      "text/plain": [
       "<Figure size 1008x360 with 2 Axes>"
      ]
     },
     "metadata": {
      "needs_background": "light"
     },
     "output_type": "display_data"
    }
   ],
   "source": [
    "plt.figure(figsize=(14, 5))\n",
    "plt.subplot(1, 2, 1)\n",
    "nr_education_counts.plot('bar')\n",
    "plt.title('Не вернули кредит')\n",
    "\n",
    "plt.subplot(1, 2, 2)\n",
    "r_education_counts.plot('bar')\n",
    "plt.title('Вернули кредит')"
   ]
  },
  {
   "cell_type": "code",
   "execution_count": 196,
   "metadata": {},
   "outputs": [],
   "source": [
    "def get_observed_and_expected_freq(data):\n",
    "    mean = np.mean(data)\n",
    "    observed = np.bincount(data)\n",
    "    expected = [len(data)*stats.poisson.pmf(x, mean) for x in range(min(data), max(data) + 1)]\n",
    "    if len(expected) < len(observed):\n",
    "        expected = [0] + expected\n",
    "    return observed, expected"
   ]
  },
  {
   "cell_type": "code",
   "execution_count": 198,
   "metadata": {},
   "outputs": [],
   "source": [
    "observed_frequences_nr, expected_frequences_nr = get_observed_and_expected_freq(not_returned_education.values)"
   ]
  },
  {
   "cell_type": "code",
   "execution_count": 199,
   "metadata": {},
   "outputs": [],
   "source": [
    "observed_frequences_r, expected_frequences_r = get_observed_and_expected_freq(returned_education)"
   ]
  },
  {
   "cell_type": "code",
   "execution_count": 200,
   "metadata": {},
   "outputs": [
    {
     "data": {
      "text/html": [
       "<div>\n",
       "<style scoped>\n",
       "    .dataframe tbody tr th:only-of-type {\n",
       "        vertical-align: middle;\n",
       "    }\n",
       "\n",
       "    .dataframe tbody tr th {\n",
       "        vertical-align: top;\n",
       "    }\n",
       "\n",
       "    .dataframe thead th {\n",
       "        text-align: right;\n",
       "    }\n",
       "</style>\n",
       "<table border=\"1\" class=\"dataframe\">\n",
       "  <thead>\n",
       "    <tr style=\"text-align: right;\">\n",
       "      <th></th>\n",
       "      <th>0</th>\n",
       "      <th>1</th>\n",
       "      <th>2</th>\n",
       "      <th>3</th>\n",
       "      <th>4</th>\n",
       "      <th>5</th>\n",
       "      <th>6</th>\n",
       "    </tr>\n",
       "  </thead>\n",
       "  <tbody>\n",
       "    <tr>\n",
       "      <th>diff_not_returned</th>\n",
       "      <td>0.000000</td>\n",
       "      <td>-145.415205</td>\n",
       "      <td>-1538.987144</td>\n",
       "      <td>-105.876600</td>\n",
       "      <td>528.775109</td>\n",
       "      <td>185.022919</td>\n",
       "      <td>56.110085</td>\n",
       "    </tr>\n",
       "    <tr>\n",
       "      <th>diff_returned</th>\n",
       "      <td>3691.652203</td>\n",
       "      <td>-1725.645120</td>\n",
       "      <td>-4417.951757</td>\n",
       "      <td>175.789497</td>\n",
       "      <td>1658.952063</td>\n",
       "      <td>391.657017</td>\n",
       "      <td>157.600486</td>\n",
       "    </tr>\n",
       "  </tbody>\n",
       "</table>\n",
       "</div>"
      ],
      "text/plain": [
       "                             0            1            2           3  \\\n",
       "diff_not_returned     0.000000  -145.415205 -1538.987144 -105.876600   \n",
       "diff_returned      3691.652203 -1725.645120 -4417.951757  175.789497   \n",
       "\n",
       "                             4           5           6  \n",
       "diff_not_returned   528.775109  185.022919   56.110085  \n",
       "diff_returned      1658.952063  391.657017  157.600486  "
      ]
     },
     "execution_count": 200,
     "metadata": {},
     "output_type": "execute_result"
    }
   ],
   "source": [
    "education_df = pd.DataFrame([expected_frequences_nr - observed_frequences_nr,\n",
    "                             expected_frequences_r - observed_frequences_r],\n",
    "                            index=['diff_not_returned', 'diff_returned'])\n",
    "education_df"
   ]
  },
  {
   "cell_type": "markdown",
   "metadata": {},
   "source": [
    "### Вывод:<br>\n",
    "\n",
    "Судя по таблице, люди, имеющие степень доктора, вероятнее всего отдадут кредит. Люди же, имеющие степень бакалавра скорее всего просрочат выплаты."
   ]
  },
  {
   "cell_type": "markdown",
   "metadata": {},
   "source": [
    "# Task 4"
   ]
  },
  {
   "cell_type": "code",
   "execution_count": 51,
   "metadata": {},
   "outputs": [],
   "source": [
    "marriage_nr = df[df['default'] == 0]['MARRIAGE']\n",
    "marriage_r = df[df['default'] == 1]['MARRIAGE']"
   ]
  },
  {
   "cell_type": "code",
   "execution_count": 5,
   "metadata": {},
   "outputs": [
    {
     "data": {
      "text/plain": [
       "Text(0.5, 1.0, 'Вернули кредит')"
      ]
     },
     "execution_count": 5,
     "metadata": {},
     "output_type": "execute_result"
    },
    {
     "data": {
      "image/png": "[encoded data removed]",
      "text/plain": [
       "<Figure size 1008x360 with 2 Axes>"
      ]
     },
     "metadata": {
      "needs_background": "light"
     },
     "output_type": "display_data"
    }
   ],
   "source": [
    "plt.figure(figsize=(14, 5))\n",
    "plt.subplot(1, 2, 1)\n",
    "marriage_nr.value_counts().plot('bar')\n",
    "plt.title('Не вернули кредит')\n",
    "\n",
    "plt.subplot(1, 2, 2)\n",
    "marriage_r.value_counts().plot('bar')\n",
    "plt.title('Вернули кредит')"
   ]
  },
  {
   "cell_type": "markdown",
   "metadata": {},
   "source": [
    "**Учитывая, что данных об отсутствие данных о браке мало, можно их отсечь и рассматривать критерий для доли**"
   ]
  },
  {
   "cell_type": "code",
   "execution_count": 54,
   "metadata": {},
   "outputs": [],
   "source": [
    "marriage_nr = marriage_nr[(marriage_nr == 1) | (marriage_nr == 2)]\n",
    "marriage_r = marriage_r[(marriage_r == 1) | (marriage_r == 2)]"
   ]
  },
  {
   "cell_type": "markdown",
   "metadata": {},
   "source": [
    "Преобразуем в бинональный вид"
   ]
  },
  {
   "cell_type": "code",
   "execution_count": 55,
   "metadata": {},
   "outputs": [],
   "source": [
    "marriage_nr = marriage_nr - 1\n",
    "marriage_r = marriage_r - 1"
   ]
  },
  {
   "cell_type": "code",
   "execution_count": 56,
   "metadata": {},
   "outputs": [
    {
     "name": "stdout",
     "output_type": "stream",
     "text": [
      "95% доверительный интервал для разности долей: [0.023002, 0.050415]\n"
     ]
    }
   ],
   "source": [
    "print('95%% доверительный интервал для разности долей: [%f, %f]' % proportions_diff_confint_ind(marriage_nr, marriage_r))"
   ]
  },
  {
   "cell_type": "markdown",
   "metadata": {},
   "source": [
    "### Z-критерий для доли для двух независимых выборок\n",
    "H0 : p1 = p2<br>\n",
    "H1 : p1 ≮=> p2"
   ]
  },
  {
   "cell_type": "code",
   "execution_count": 58,
   "metadata": {},
   "outputs": [
    {
     "name": "stdout",
     "output_type": "stream",
     "text": [
      "p-value = 1.448514344026819e-07\n"
     ]
    }
   ],
   "source": [
    "print('p-value =', proportions_diff_z_test(proportions_diff_z_stat_ind(marriage_nr, marriage_r)))"
   ]
  },
  {
   "cell_type": "markdown",
   "metadata": {},
   "source": [
    "### Вывод:<br>\n",
    "\n",
    "Учитывая, что доверительный интервал разности долей не пересекает 0 можно сказать что данные о семейном положении влияют на просроченность кредита. Что и подтверждает Z-критерий, уровень значимости которого значительно меньше 0.05."
   ]
  },
  {
   "cell_type": "markdown",
   "metadata": {},
   "source": [
    "# Task 5"
   ]
  },
  {
   "cell_type": "code",
   "execution_count": 6,
   "metadata": {},
   "outputs": [],
   "source": [
    "age_nr = df[df['default'] == 1]['AGE']\n",
    "age_r = df[df['default'] == 0]['AGE']"
   ]
  },
  {
   "cell_type": "code",
   "execution_count": 37,
   "metadata": {},
   "outputs": [
    {
     "data": {
      "image/png": "[encoded data removed]",
      "text/plain": [
       "<Figure size 1008x360 with 2 Axes>"
      ]
     },
     "metadata": {
      "needs_background": "light"
     },
     "output_type": "display_data"
    }
   ],
   "source": [
    "plt.figure(figsize=(14, 5))\n",
    "plt.subplot(1, 2, 1)\n",
    "age_nr.hist()\n",
    "plt.vlines(age_nr.median(), ymin=0, ymax=1500, color='r')\n",
    "plt.vlines(age_nr.mean(), ymin=0, ymax=1500, color='orange')\n",
    "plt.title('Не вернули кредит. Медиана: {}'.format(age_nr.median()))\n",
    "plt.subplot(1, 2, 2)\n",
    "age_r.hist()\n",
    "plt.vlines(age_r.median(), ymin=0, ymax=7000, color='r')\n",
    "plt.vlines(age_r.mean(), ymin=0, ymax=7000, color='orange')\n",
    "_ = plt.title('Вернули кредит. Медиана: {}'.format(age_r.median()))"
   ]
  },
  {
   "cell_type": "code",
   "execution_count": 15,
   "metadata": {
    "scrolled": true
   },
   "outputs": [
    {
     "name": "stdout",
     "output_type": "stream",
     "text": [
      "95% confidence interval for NOT returned a loan: [34. 34.]\n",
      "95% confidence interval for for returned a loan: [34. 34.]\n"
     ]
    }
   ],
   "source": [
    "median_scores_age_nr = list(map(np.median, get_bootstrap_samples(age_nr.values, 10000)))\n",
    "median_scores_age_r = list(map(np.median, get_bootstrap_samples(age_r.values, 10000)))\n",
    "\n",
    "print(\"95% confidence interval for NOT returned a loan:\",  stat_intervals(median_scores_age_nr))\n",
    "print(\"95% confidence interval for for returned a loan:\",  stat_intervals(median_scores_age_r))"
   ]
  },
  {
   "cell_type": "code",
   "execution_count": 33,
   "metadata": {},
   "outputs": [
    {
     "name": "stdout",
     "output_type": "stream",
     "text": [
      "95% confidence interval for NOT returned a loan: [35.64598403 35.80831826]\n",
      "95% confidence interval for for returned a loan: [35.37604862 35.45707071]\n"
     ]
    }
   ],
   "source": [
    "median_scores_age_nr = list(map(np.mean, get_bootstrap_samples(age_nr.values, 10000)))\n",
    "median_scores_age_r = list(map(np.mean, get_bootstrap_samples(age_r.values, 10000)))\n",
    "\n",
    "print(\"95% confidence interval for NOT returned a loan:\",  stat_intervals(median_scores_age_nr))\n",
    "print(\"95% confidence interval for for returned a loan:\",  stat_intervals(median_scores_age_r))"
   ]
  },
  {
   "cell_type": "markdown",
   "metadata": {},
   "source": [
    "### (b) Ранговый критерий Манна-Уитни\n",
    "$H_0\\colon F_{X_1}(x) = F_{X_2}(x)$\n",
    "\n",
    "$H_1\\colon F_{X_1}(x) = F_{X_2}(x + \\Delta), \\Delta\\neq 0$"
   ]
  },
  {
   "cell_type": "code",
   "execution_count": 60,
   "metadata": {},
   "outputs": [
    {
     "data": {
      "text/plain": [
       "MannwhitneyuResult(statistic=986197.0, pvalue=0.0)"
      ]
     },
     "execution_count": 60,
     "metadata": {},
     "output_type": "execute_result"
    }
   ],
   "source": [
    "stats.mannwhitneyu(median_scores_age_nr, median_scores_age_r)"
   ]
  },
  {
   "cell_type": "markdown",
   "metadata": {},
   "source": [
    "#### Выводы:<br>\n",
    "\n",
    "Учитывая доверительный интервал и p-value можно уверенно отвергнуть гипотезу что возраст не влияет на возврат кредита"
   ]
  }
 ],
 "metadata": {
  "kernelspec": {
   "display_name": "Python 2",
   "language": "python",
   "name": "python2"
  },
  "language_info": {
   "codemirror_mode": {
    "name": "ipython",
    "version": 2
   },
   "file_extension": ".py",
   "mimetype": "text/x-python",
   "name": "python",
   "nbconvert_exporter": "python",
   "pygments_lexer": "ipython2",
   "version": "2.7.10"
  }
 },
 "nbformat": 4,
 "nbformat_minor": 2
}
