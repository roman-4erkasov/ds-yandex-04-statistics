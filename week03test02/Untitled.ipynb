{
 "cells": [
  {
   "cell_type": "code",
   "execution_count": 62,
   "metadata": {},
   "outputs": [],
   "source": [
    "import itertools\n",
    "import collections\n",
    "from scipy import stats\n",
    "import numpy as np\n",
    "import pandas as pd\n",
    "from statsmodels.sandbox.stats.multicomp import multipletests "
   ]
  },
  {
   "cell_type": "code",
   "execution_count": 33,
   "metadata": {},
   "outputs": [],
   "source": [
    "df = pd.read_csv(\"./AUCs.txt\", sep=\"\\t\")\n",
    "df=df.set_index(\"Unnamed: 0\")\n",
    "rows = df.index.values\n",
    "cols = df.columns.values"
   ]
  },
  {
   "cell_type": "code",
   "execution_count": 38,
   "metadata": {},
   "outputs": [
    {
     "data": {
      "text/plain": [
       "[('C4.5', 'C4.5+m'),\n",
       " ('C4.5', 'C4.5+cf'),\n",
       " ('C4.5', 'C4.5+m+cf'),\n",
       " ('C4.5+m', 'C4.5+cf'),\n",
       " ('C4.5+m', 'C4.5+m+cf'),\n",
       " ('C4.5+cf', 'C4.5+m+cf')]"
      ]
     },
     "execution_count": 38,
     "metadata": {},
     "output_type": "execute_result"
    }
   ],
   "source": [
    "pairs = list(itertools.combinations(cols, 2))\n",
    "pairs"
   ]
  },
  {
   "cell_type": "code",
   "execution_count": 47,
   "metadata": {},
   "outputs": [
    {
     "name": "stdout",
     "output_type": "stream",
     "text": [
      " C4.5 C4.5+m WilcoxonResult(statistic=6.5, pvalue=0.01075713311978963)\n",
      "C4.5 C4.5+cf WilcoxonResult(statistic=43.0, pvalue=0.861262330095348)\n",
      "C4.5 C4.5+m+cf WilcoxonResult(statistic=11.0, pvalue=0.015906444101703374)\n",
      "C4.5+m C4.5+cf WilcoxonResult(statistic=17.0, pvalue=0.046332729793395394)\n",
      "C4.5+m C4.5+m+cf WilcoxonResult(statistic=22.0, pvalue=0.3278256758446406)\n",
      "C4.5+cf C4.5+m+cf WilcoxonResult(statistic=10.0, pvalue=0.022909099354356588)\n",
      "Holm\n"
     ]
    }
   ],
   "source": [
    "res = []\n",
    "for pair in pairs:\n",
    "    print pair[0], pair[1], stats.wilcoxon(x=df[pair[0]],y=df[pair[1]])\n",
    "print 'Holm'\n",
    "dct = {'left':[], 'right':[], 'p':[]}\n",
    "for pair in pairs:\n",
    "    res = stats.wilcoxon(x=df[pair[0]],y=df[pair[1]])\n",
    "    dct['left'].append(pair[0])\n",
    "    dct['right'].append(pair[1])\n",
    "    dct['p'].append(res.pvalue)\n",
    "    #print pair[0], pair[1], multipletests(res.pvalue, alpha = 0.05, method = 'holm') "
   ]
  },
  {
   "cell_type": "code",
   "execution_count": 65,
   "metadata": {},
   "outputs": [],
   "source": [
    "dpairs = pd.DataFrame(dct)"
   ]
  },
  {
   "cell_type": "code",
   "execution_count": 66,
   "metadata": {},
   "outputs": [
    {
     "data": {
      "text/plain": [
       "Counter({False: 6})"
      ]
     },
     "execution_count": 66,
     "metadata": {},
     "output_type": "execute_result"
    }
   ],
   "source": [
    "reject, p_corrected, a1, a2 = multipletests(dpairs.p, alpha = 0.05, method = 'holm') \n",
    "collections.Counter(reject)"
   ]
  },
  {
   "cell_type": "code",
   "execution_count": 67,
   "metadata": {},
   "outputs": [
    {
     "data": {
      "text/plain": [
       "Counter({False: 3, True: 3})"
      ]
     },
     "execution_count": 67,
     "metadata": {},
     "output_type": "execute_result"
    }
   ],
   "source": [
    "reject, p_corrected, a1, a2 = multipletests(\n",
    "    dpairs.p, \n",
    "    alpha = 0.05, \n",
    "    method = 'fdr_bh'\n",
    ") \n",
    "collections.Counter(reject)"
   ]
  },
  {
   "cell_type": "code",
   "execution_count": null,
   "metadata": {},
   "outputs": [],
   "source": []
  }
 ],
 "metadata": {
  "kernelspec": {
   "display_name": "Python 2",
   "language": "python",
   "name": "python2"
  },
  "language_info": {
   "codemirror_mode": {
    "name": "ipython",
    "version": 2
   },
   "file_extension": ".py",
   "mimetype": "text/x-python",
   "name": "python",
   "nbconvert_exporter": "python",
   "pygments_lexer": "ipython2",
   "version": "2.7.10"
  }
 },
 "nbformat": 4,
 "nbformat_minor": 2
}
